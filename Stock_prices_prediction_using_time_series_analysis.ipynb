{
  "nbformat": 4,
  "nbformat_minor": 0,
  "metadata": {
    "colab": {
      "name": "Stock prices prediction using time series analysis.ipynb",
      "provenance": [],
      "collapsed_sections": []
    },
    "kernelspec": {
      "name": "python3",
      "display_name": "Python 3"
    },
    "language_info": {
      "name": "python"
    }
  },
  "cells": [
    {
      "cell_type": "code",
      "metadata": {
        "id": "dMYmDK9ZJqz5"
      },
      "source": [
        "import pandas as pd\n",
        "import numpy as np\n",
        "import seaborn as sns \n",
        "import matplotlib.pyplot as plt \n",
        "%matplotlib inline "
      ],
      "execution_count": null,
      "outputs": []
    },
    {
      "cell_type": "code",
      "metadata": {
        "id": "kA8fmKZMJ69c"
      },
      "source": [
        "from google.colab import files"
      ],
      "execution_count": null,
      "outputs": []
    },
    {
      "cell_type": "code",
      "metadata": {
        "colab": {
          "resources": {
            "http://localhost:8080/nbextensions/google.colab/files.js": {
              "data": "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",
              "ok": true,
              "headers": [
                [
                  "content-type",
                  "application/javascript"
                ]
              ],
              "status": 200,
              "status_text": ""
            }
          },
          "base_uri": "https://localhost:8080/",
          "height": 73
        },
        "id": "gupcphXGKHGQ",
        "outputId": "b4b5a852-2e3e-4634-fde3-cf42bc57c0bc"
      },
      "source": [
        "uploaded = files.upload()"
      ],
      "execution_count": null,
      "outputs": [
        {
          "output_type": "display_data",
          "data": {
            "text/html": [
              "\n",
              "     <input type=\"file\" id=\"files-23908a08-ce35-4311-86ed-198a5b4b59ef\" name=\"files[]\" multiple disabled\n",
              "        style=\"border:none\" />\n",
              "     <output id=\"result-23908a08-ce35-4311-86ed-198a5b4b59ef\">\n",
              "      Upload widget is only available when the cell has been executed in the\n",
              "      current browser session. Please rerun this cell to enable.\n",
              "      </output>\n",
              "      <script src=\"/nbextensions/google.colab/files.js\"></script> "
            ],
            "text/plain": [
              "<IPython.core.display.HTML object>"
            ]
          },
          "metadata": {
            "tags": []
          }
        },
        {
          "output_type": "stream",
          "text": [
            "Saving BAJFINANCE.csv to BAJFINANCE (1).csv\n"
          ],
          "name": "stdout"
        }
      ]
    },
    {
      "cell_type": "code",
      "metadata": {
        "id": "Ui91HYf3KJ4a"
      },
      "source": [
        "import io"
      ],
      "execution_count": null,
      "outputs": []
    },
    {
      "cell_type": "code",
      "metadata": {
        "colab": {
          "base_uri": "https://localhost:8080/",
          "height": 195
        },
        "id": "EE8CyW9gKPhs",
        "outputId": "fc4fe242-b888-4cc8-c55e-2f533d3ae0d9"
      },
      "source": [
        "df = pd.read_csv('BAJFINANCE.csv')\n",
        "df.head()"
      ],
      "execution_count": null,
      "outputs": [
        {
          "output_type": "execute_result",
          "data": {
            "text/html": [
              "<div>\n",
              "<style scoped>\n",
              "    .dataframe tbody tr th:only-of-type {\n",
              "        vertical-align: middle;\n",
              "    }\n",
              "\n",
              "    .dataframe tbody tr th {\n",
              "        vertical-align: top;\n",
              "    }\n",
              "\n",
              "    .dataframe thead th {\n",
              "        text-align: right;\n",
              "    }\n",
              "</style>\n",
              "<table border=\"1\" class=\"dataframe\">\n",
              "  <thead>\n",
              "    <tr style=\"text-align: right;\">\n",
              "      <th></th>\n",
              "      <th>Date</th>\n",
              "      <th>Symbol</th>\n",
              "      <th>Series</th>\n",
              "      <th>Prev Close</th>\n",
              "      <th>Open</th>\n",
              "      <th>High</th>\n",
              "      <th>Low</th>\n",
              "      <th>Last</th>\n",
              "      <th>Close</th>\n",
              "      <th>VWAP</th>\n",
              "      <th>Volume</th>\n",
              "      <th>Turnover</th>\n",
              "      <th>Trades</th>\n",
              "      <th>Deliverable Volume</th>\n",
              "      <th>%Deliverble</th>\n",
              "    </tr>\n",
              "  </thead>\n",
              "  <tbody>\n",
              "    <tr>\n",
              "      <th>0</th>\n",
              "      <td>2000-01-03</td>\n",
              "      <td>BAJAUTOFIN</td>\n",
              "      <td>EQ</td>\n",
              "      <td>46.95</td>\n",
              "      <td>49.45</td>\n",
              "      <td>50.75</td>\n",
              "      <td>46.5</td>\n",
              "      <td>50.75</td>\n",
              "      <td>50.75</td>\n",
              "      <td>50.05</td>\n",
              "      <td>7600</td>\n",
              "      <td>3.803800e+10</td>\n",
              "      <td>NaN</td>\n",
              "      <td>NaN</td>\n",
              "      <td>NaN</td>\n",
              "    </tr>\n",
              "    <tr>\n",
              "      <th>1</th>\n",
              "      <td>2000-01-04</td>\n",
              "      <td>BAJAUTOFIN</td>\n",
              "      <td>EQ</td>\n",
              "      <td>50.75</td>\n",
              "      <td>53.20</td>\n",
              "      <td>53.20</td>\n",
              "      <td>47.9</td>\n",
              "      <td>48.00</td>\n",
              "      <td>48.10</td>\n",
              "      <td>48.56</td>\n",
              "      <td>5000</td>\n",
              "      <td>2.428000e+10</td>\n",
              "      <td>NaN</td>\n",
              "      <td>NaN</td>\n",
              "      <td>NaN</td>\n",
              "    </tr>\n",
              "    <tr>\n",
              "      <th>2</th>\n",
              "      <td>2000-01-05</td>\n",
              "      <td>BAJAUTOFIN</td>\n",
              "      <td>EQ</td>\n",
              "      <td>48.10</td>\n",
              "      <td>46.55</td>\n",
              "      <td>47.40</td>\n",
              "      <td>44.6</td>\n",
              "      <td>44.60</td>\n",
              "      <td>44.60</td>\n",
              "      <td>45.47</td>\n",
              "      <td>3500</td>\n",
              "      <td>1.591450e+10</td>\n",
              "      <td>NaN</td>\n",
              "      <td>NaN</td>\n",
              "      <td>NaN</td>\n",
              "    </tr>\n",
              "    <tr>\n",
              "      <th>3</th>\n",
              "      <td>2000-01-06</td>\n",
              "      <td>BAJAUTOFIN</td>\n",
              "      <td>EQ</td>\n",
              "      <td>44.60</td>\n",
              "      <td>43.50</td>\n",
              "      <td>46.00</td>\n",
              "      <td>42.1</td>\n",
              "      <td>46.00</td>\n",
              "      <td>45.25</td>\n",
              "      <td>44.43</td>\n",
              "      <td>6200</td>\n",
              "      <td>2.754750e+10</td>\n",
              "      <td>NaN</td>\n",
              "      <td>NaN</td>\n",
              "      <td>NaN</td>\n",
              "    </tr>\n",
              "    <tr>\n",
              "      <th>4</th>\n",
              "      <td>2000-01-07</td>\n",
              "      <td>BAJAUTOFIN</td>\n",
              "      <td>EQ</td>\n",
              "      <td>45.25</td>\n",
              "      <td>48.00</td>\n",
              "      <td>48.00</td>\n",
              "      <td>42.0</td>\n",
              "      <td>42.90</td>\n",
              "      <td>42.90</td>\n",
              "      <td>44.44</td>\n",
              "      <td>3500</td>\n",
              "      <td>1.555550e+10</td>\n",
              "      <td>NaN</td>\n",
              "      <td>NaN</td>\n",
              "      <td>NaN</td>\n",
              "    </tr>\n",
              "  </tbody>\n",
              "</table>\n",
              "</div>"
            ],
            "text/plain": [
              "         Date      Symbol Series  ...  Trades  Deliverable Volume  %Deliverble\n",
              "0  2000-01-03  BAJAUTOFIN     EQ  ...     NaN                 NaN          NaN\n",
              "1  2000-01-04  BAJAUTOFIN     EQ  ...     NaN                 NaN          NaN\n",
              "2  2000-01-05  BAJAUTOFIN     EQ  ...     NaN                 NaN          NaN\n",
              "3  2000-01-06  BAJAUTOFIN     EQ  ...     NaN                 NaN          NaN\n",
              "4  2000-01-07  BAJAUTOFIN     EQ  ...     NaN                 NaN          NaN\n",
              "\n",
              "[5 rows x 15 columns]"
            ]
          },
          "metadata": {
            "tags": []
          },
          "execution_count": 7
        }
      ]
    },
    {
      "cell_type": "code",
      "metadata": {
        "id": "1dri4NNuKZxn"
      },
      "source": [
        "#This data is a time series used case, so anything in the data must be related to time series index, hence, we'll set our index\n",
        "df.set_index('Date',inplace = True)"
      ],
      "execution_count": null,
      "outputs": []
    },
    {
      "cell_type": "code",
      "metadata": {
        "colab": {
          "base_uri": "https://localhost:8080/",
          "height": 299
        },
        "id": "x-80pT7xKirl",
        "outputId": "77702a2f-3aa9-40f2-f096-21efaecfd42d"
      },
      "source": [
        "df['VWAP'].plot() #this plot shows how the volume weighted average price has changed over time"
      ],
      "execution_count": null,
      "outputs": [
        {
          "output_type": "execute_result",
          "data": {
            "text/plain": [
              "<matplotlib.axes._subplots.AxesSubplot at 0x7fb2930ecdd0>"
            ]
          },
          "metadata": {
            "tags": []
          },
          "execution_count": 9
        },
        {
          "output_type": "display_data",
          "data": {
            "image/png": "[encoded data removed]",
            "text/plain": [
              "<Figure size 432x288 with 1 Axes>"
            ]
          },
          "metadata": {
            "tags": [],
            "needs_background": "light"
          }
        }
      ]
    },
    {
      "cell_type": "code",
      "metadata": {
        "colab": {
          "base_uri": "https://localhost:8080/"
        },
        "id": "iiNkhFUALTEl",
        "outputId": "2a41fa4d-dfd9-45de-f15c-ffb7040f6b96"
      },
      "source": [
        "df.shape"
      ],
      "execution_count": null,
      "outputs": [
        {
          "output_type": "execute_result",
          "data": {
            "text/plain": [
              "(5070, 14)"
            ]
          },
          "metadata": {
            "tags": []
          },
          "execution_count": 10
        }
      ]
    },
    {
      "cell_type": "code",
      "metadata": {
        "colab": {
          "base_uri": "https://localhost:8080/"
        },
        "id": "c9xYF6cGLziC",
        "outputId": "c7945c25-b41d-42d3-e6b6-01217e27937c"
      },
      "source": [
        "df.isna().sum()"
      ],
      "execution_count": null,
      "outputs": [
        {
          "output_type": "execute_result",
          "data": {
            "text/plain": [
              "Symbol                   0\n",
              "Series                   0\n",
              "Prev Close               0\n",
              "Open                     0\n",
              "High                     0\n",
              "Low                      0\n",
              "Last                     0\n",
              "Close                    0\n",
              "VWAP                     0\n",
              "Volume                   0\n",
              "Turnover                 0\n",
              "Trades                2779\n",
              "Deliverable Volume     446\n",
              "%Deliverble            446\n",
              "dtype: int64"
            ]
          },
          "metadata": {
            "tags": []
          },
          "execution_count": 11
        }
      ]
    },
    {
      "cell_type": "code",
      "metadata": {
        "id": "wrXK2gZkL7Im"
      },
      "source": [
        "df.dropna(inplace = True)"
      ],
      "execution_count": null,
      "outputs": []
    },
    {
      "cell_type": "code",
      "metadata": {
        "colab": {
          "base_uri": "https://localhost:8080/"
        },
        "id": "WRR8j6O8MBVp",
        "outputId": "fb7e1ffb-e31c-4ef0-9634-929e3484da50"
      },
      "source": [
        "df.isnull().sum()"
      ],
      "execution_count": null,
      "outputs": [
        {
          "output_type": "execute_result",
          "data": {
            "text/plain": [
              "Symbol                0\n",
              "Series                0\n",
              "Prev Close            0\n",
              "Open                  0\n",
              "High                  0\n",
              "Low                   0\n",
              "Last                  0\n",
              "Close                 0\n",
              "VWAP                  0\n",
              "Volume                0\n",
              "Turnover              0\n",
              "Trades                0\n",
              "Deliverable Volume    0\n",
              "%Deliverble           0\n",
              "dtype: int64"
            ]
          },
          "metadata": {
            "tags": []
          },
          "execution_count": 13
        }
      ]
    },
    {
      "cell_type": "code",
      "metadata": {
        "colab": {
          "base_uri": "https://localhost:8080/"
        },
        "id": "beX3ilPGMDau",
        "outputId": "04b93e41-4471-4a65-f786-0c89cb50ba25"
      },
      "source": [
        "df.shape\n"
      ],
      "execution_count": null,
      "outputs": [
        {
          "output_type": "execute_result",
          "data": {
            "text/plain": [
              "(2291, 14)"
            ]
          },
          "metadata": {
            "tags": []
          },
          "execution_count": 14
        }
      ]
    },
    {
      "cell_type": "code",
      "metadata": {
        "colab": {
          "base_uri": "https://localhost:8080/"
        },
        "id": "lNog_IEsMHMB",
        "outputId": "e600c062-2973-45e1-fbe5-55748e09482c"
      },
      "source": [
        "df.dtypes"
      ],
      "execution_count": null,
      "outputs": [
        {
          "output_type": "execute_result",
          "data": {
            "text/plain": [
              "Symbol                 object\n",
              "Series                 object\n",
              "Prev Close            float64\n",
              "Open                  float64\n",
              "High                  float64\n",
              "Low                   float64\n",
              "Last                  float64\n",
              "Close                 float64\n",
              "VWAP                  float64\n",
              "Volume                  int64\n",
              "Turnover              float64\n",
              "Trades                float64\n",
              "Deliverable Volume    float64\n",
              "%Deliverble           float64\n",
              "dtype: object"
            ]
          },
          "metadata": {
            "tags": []
          },
          "execution_count": 15
        }
      ]
    },
    {
      "cell_type": "code",
      "metadata": {
        "colab": {
          "base_uri": "https://localhost:8080/",
          "height": 321
        },
        "id": "N774Nuf8OvDT",
        "outputId": "519fdce6-3527-4a69-eed0-8278f1910efd"
      },
      "source": [
        "df.describe()"
      ],
      "execution_count": null,
      "outputs": [
        {
          "output_type": "execute_result",
          "data": {
            "text/html": [
              "<div>\n",
              "<style scoped>\n",
              "    .dataframe tbody tr th:only-of-type {\n",
              "        vertical-align: middle;\n",
              "    }\n",
              "\n",
              "    .dataframe tbody tr th {\n",
              "        vertical-align: top;\n",
              "    }\n",
              "\n",
              "    .dataframe thead th {\n",
              "        text-align: right;\n",
              "    }\n",
              "</style>\n",
              "<table border=\"1\" class=\"dataframe\">\n",
              "  <thead>\n",
              "    <tr style=\"text-align: right;\">\n",
              "      <th></th>\n",
              "      <th>Prev Close</th>\n",
              "      <th>Open</th>\n",
              "      <th>High</th>\n",
              "      <th>Low</th>\n",
              "      <th>Last</th>\n",
              "      <th>Close</th>\n",
              "      <th>VWAP</th>\n",
              "      <th>Volume</th>\n",
              "      <th>Turnover</th>\n",
              "      <th>Trades</th>\n",
              "      <th>Deliverable Volume</th>\n",
              "      <th>%Deliverble</th>\n",
              "      <th>Highrolling_mean_3</th>\n",
              "      <th>Highrolling_mean_7</th>\n",
              "      <th>Lowrolling_mean_3</th>\n",
              "      <th>Lowrolling_mean_7</th>\n",
              "      <th>Volumerolling_mean_3</th>\n",
              "      <th>Volumerolling_mean_7</th>\n",
              "      <th>Turnoverrolling_mean_3</th>\n",
              "      <th>Turnoverrolling_mean_7</th>\n",
              "      <th>Tradesrolling_mean_3</th>\n",
              "      <th>Tradesrolling_mean_7</th>\n",
              "      <th>Highrolling_std_3</th>\n",
              "      <th>Highrolling_std_7</th>\n",
              "      <th>Lowrolling_std_3</th>\n",
              "      <th>Lowrolling_std_7</th>\n",
              "      <th>Volumerolling_std_3</th>\n",
              "      <th>Volumerolling_std_7</th>\n",
              "      <th>Turnoverrolling_std_3</th>\n",
              "      <th>Turnoverrolling_std_7</th>\n",
              "      <th>Tradesrolling_std_3</th>\n",
              "      <th>Tradesrolling_std_7</th>\n",
              "    </tr>\n",
              "  </thead>\n",
              "  <tbody>\n",
              "    <tr>\n",
              "      <th>count</th>\n",
              "      <td>2285.000000</td>\n",
              "      <td>2285.000000</td>\n",
              "      <td>2285.000000</td>\n",
              "      <td>2285.000000</td>\n",
              "      <td>2285.000000</td>\n",
              "      <td>2285.000000</td>\n",
              "      <td>2285.000000</td>\n",
              "      <td>2.285000e+03</td>\n",
              "      <td>2.285000e+03</td>\n",
              "      <td>2285.000000</td>\n",
              "      <td>2.285000e+03</td>\n",
              "      <td>2285.000000</td>\n",
              "      <td>2285.000000</td>\n",
              "      <td>2285.000000</td>\n",
              "      <td>2285.000000</td>\n",
              "      <td>2285.000000</td>\n",
              "      <td>2.285000e+03</td>\n",
              "      <td>2.285000e+03</td>\n",
              "      <td>2.285000e+03</td>\n",
              "      <td>2.285000e+03</td>\n",
              "      <td>2285.000000</td>\n",
              "      <td>2285.000000</td>\n",
              "      <td>2285.000000</td>\n",
              "      <td>2285.000000</td>\n",
              "      <td>2285.000000</td>\n",
              "      <td>2285.000000</td>\n",
              "      <td>2.285000e+03</td>\n",
              "      <td>2.285000e+03</td>\n",
              "      <td>2.285000e+03</td>\n",
              "      <td>2.285000e+03</td>\n",
              "      <td>2285.000000</td>\n",
              "      <td>2285.000000</td>\n",
              "    </tr>\n",
              "    <tr>\n",
              "      <th>mean</th>\n",
              "      <td>2633.351072</td>\n",
              "      <td>2634.941597</td>\n",
              "      <td>2676.817768</td>\n",
              "      <td>2590.544114</td>\n",
              "      <td>2634.900591</td>\n",
              "      <td>2634.599300</td>\n",
              "      <td>2634.840543</td>\n",
              "      <td>1.099476e+06</td>\n",
              "      <td>2.864095e+14</td>\n",
              "      <td>47228.045077</td>\n",
              "      <td>2.722712e+05</td>\n",
              "      <td>0.527186</td>\n",
              "      <td>2675.464923</td>\n",
              "      <td>2672.804811</td>\n",
              "      <td>2589.269854</td>\n",
              "      <td>2586.682313</td>\n",
              "      <td>1.096376e+06</td>\n",
              "      <td>1.090947e+06</td>\n",
              "      <td>2.852868e+14</td>\n",
              "      <td>2.833198e+14</td>\n",
              "      <td>47122.734209</td>\n",
              "      <td>46939.502720</td>\n",
              "      <td>41.056412</td>\n",
              "      <td>71.302024</td>\n",
              "      <td>42.692237</td>\n",
              "      <td>71.181043</td>\n",
              "      <td>3.251555e+05</td>\n",
              "      <td>4.143616e+05</td>\n",
              "      <td>8.309771e+13</td>\n",
              "      <td>1.075346e+14</td>\n",
              "      <td>12669.633084</td>\n",
              "      <td>16064.433710</td>\n",
              "    </tr>\n",
              "    <tr>\n",
              "      <th>std</th>\n",
              "      <td>1953.318359</td>\n",
              "      <td>1952.291595</td>\n",
              "      <td>1980.915982</td>\n",
              "      <td>1922.032261</td>\n",
              "      <td>1953.154295</td>\n",
              "      <td>1952.952464</td>\n",
              "      <td>1952.233322</td>\n",
              "      <td>2.556262e+06</td>\n",
              "      <td>6.996002e+14</td>\n",
              "      <td>101619.442904</td>\n",
              "      <td>4.590013e+05</td>\n",
              "      <td>0.230515</td>\n",
              "      <td>1975.204368</td>\n",
              "      <td>1966.582566</td>\n",
              "      <td>1916.488970</td>\n",
              "      <td>1908.011531</td>\n",
              "      <td>2.466208e+06</td>\n",
              "      <td>2.402612e+06</td>\n",
              "      <td>6.728691e+14</td>\n",
              "      <td>6.514399e+14</td>\n",
              "      <td>98380.343658</td>\n",
              "      <td>96208.622632</td>\n",
              "      <td>184.950610</td>\n",
              "      <td>256.305197</td>\n",
              "      <td>179.213480</td>\n",
              "      <td>249.305234</td>\n",
              "      <td>7.396450e+05</td>\n",
              "      <td>8.170615e+05</td>\n",
              "      <td>2.107681e+14</td>\n",
              "      <td>2.389582e+14</td>\n",
              "      <td>28004.205040</td>\n",
              "      <td>30660.147379</td>\n",
              "    </tr>\n",
              "    <tr>\n",
              "      <th>min</th>\n",
              "      <td>566.100000</td>\n",
              "      <td>560.000000</td>\n",
              "      <td>572.000000</td>\n",
              "      <td>553.800000</td>\n",
              "      <td>566.000000</td>\n",
              "      <td>566.100000</td>\n",
              "      <td>566.550000</td>\n",
              "      <td>1.030000e+02</td>\n",
              "      <td>8.871925e+09</td>\n",
              "      <td>21.000000</td>\n",
              "      <td>5.000000e+01</td>\n",
              "      <td>0.057500</td>\n",
              "      <td>581.916667</td>\n",
              "      <td>587.492857</td>\n",
              "      <td>561.533333</td>\n",
              "      <td>565.378571</td>\n",
              "      <td>2.063000e+03</td>\n",
              "      <td>2.844143e+03</td>\n",
              "      <td>1.569302e+11</td>\n",
              "      <td>2.468778e+11</td>\n",
              "      <td>128.000000</td>\n",
              "      <td>185.000000</td>\n",
              "      <td>0.000000</td>\n",
              "      <td>2.356854</td>\n",
              "      <td>0.057735</td>\n",
              "      <td>3.168840</td>\n",
              "      <td>1.514409e+02</td>\n",
              "      <td>7.564945e+02</td>\n",
              "      <td>1.313676e+10</td>\n",
              "      <td>6.731615e+10</td>\n",
              "      <td>21.385353</td>\n",
              "      <td>31.911335</td>\n",
              "    </tr>\n",
              "    <tr>\n",
              "      <th>25%</th>\n",
              "      <td>1253.700000</td>\n",
              "      <td>1260.000000</td>\n",
              "      <td>1278.000000</td>\n",
              "      <td>1240.100000</td>\n",
              "      <td>1255.000000</td>\n",
              "      <td>1255.950000</td>\n",
              "      <td>1256.990000</td>\n",
              "      <td>2.183600e+04</td>\n",
              "      <td>3.665695e+12</td>\n",
              "      <td>1541.000000</td>\n",
              "      <td>1.515300e+04</td>\n",
              "      <td>0.337800</td>\n",
              "      <td>1280.433333</td>\n",
              "      <td>1278.057143</td>\n",
              "      <td>1240.500000</td>\n",
              "      <td>1241.350000</td>\n",
              "      <td>2.736833e+04</td>\n",
              "      <td>2.894886e+04</td>\n",
              "      <td>4.493354e+12</td>\n",
              "      <td>5.059696e+12</td>\n",
              "      <td>1771.333333</td>\n",
              "      <td>1952.857143</td>\n",
              "      <td>9.590925</td>\n",
              "      <td>19.701622</td>\n",
              "      <td>10.252926</td>\n",
              "      <td>19.551872</td>\n",
              "      <td>1.171334e+04</td>\n",
              "      <td>1.878307e+04</td>\n",
              "      <td>2.259425e+12</td>\n",
              "      <td>3.581556e+12</td>\n",
              "      <td>662.009063</td>\n",
              "      <td>1077.452396</td>\n",
              "    </tr>\n",
              "    <tr>\n",
              "      <th>50%</th>\n",
              "      <td>1923.600000</td>\n",
              "      <td>1926.000000</td>\n",
              "      <td>1950.550000</td>\n",
              "      <td>1901.000000</td>\n",
              "      <td>1926.000000</td>\n",
              "      <td>1924.650000</td>\n",
              "      <td>1923.620000</td>\n",
              "      <td>8.936300e+04</td>\n",
              "      <td>3.965502e+13</td>\n",
              "      <td>9689.000000</td>\n",
              "      <td>5.875800e+04</td>\n",
              "      <td>0.534500</td>\n",
              "      <td>1949.850000</td>\n",
              "      <td>1944.407143</td>\n",
              "      <td>1897.350000</td>\n",
              "      <td>1894.192857</td>\n",
              "      <td>8.694367e+04</td>\n",
              "      <td>8.321100e+04</td>\n",
              "      <td>4.313847e+13</td>\n",
              "      <td>4.364545e+13</td>\n",
              "      <td>10036.333333</td>\n",
              "      <td>10439.142857</td>\n",
              "      <td>20.502459</td>\n",
              "      <td>35.891392</td>\n",
              "      <td>21.654118</td>\n",
              "      <td>37.831865</td>\n",
              "      <td>4.620963e+04</td>\n",
              "      <td>6.238601e+04</td>\n",
              "      <td>1.343517e+13</td>\n",
              "      <td>1.984621e+13</td>\n",
              "      <td>3152.550079</td>\n",
              "      <td>4591.148980</td>\n",
              "    </tr>\n",
              "    <tr>\n",
              "      <th>75%</th>\n",
              "      <td>3459.400000</td>\n",
              "      <td>3465.500000</td>\n",
              "      <td>3519.000000</td>\n",
              "      <td>3405.050000</td>\n",
              "      <td>3460.000000</td>\n",
              "      <td>3463.300000</td>\n",
              "      <td>3466.510000</td>\n",
              "      <td>1.106624e+06</td>\n",
              "      <td>2.531621e+14</td>\n",
              "      <td>49055.000000</td>\n",
              "      <td>3.549980e+05</td>\n",
              "      <td>0.715000</td>\n",
              "      <td>3511.650000</td>\n",
              "      <td>3512.228571</td>\n",
              "      <td>3420.083333</td>\n",
              "      <td>3419.285714</td>\n",
              "      <td>1.127147e+06</td>\n",
              "      <td>1.166139e+06</td>\n",
              "      <td>2.640982e+14</td>\n",
              "      <td>2.679506e+14</td>\n",
              "      <td>49355.000000</td>\n",
              "      <td>48709.857143</td>\n",
              "      <td>40.333020</td>\n",
              "      <td>68.152145</td>\n",
              "      <td>45.804667</td>\n",
              "      <td>70.670071</td>\n",
              "      <td>2.958046e+05</td>\n",
              "      <td>4.141084e+05</td>\n",
              "      <td>6.560856e+13</td>\n",
              "      <td>8.843030e+13</td>\n",
              "      <td>11684.796333</td>\n",
              "      <td>15848.698568</td>\n",
              "    </tr>\n",
              "    <tr>\n",
              "      <th>max</th>\n",
              "      <td>11393.300000</td>\n",
              "      <td>11300.000000</td>\n",
              "      <td>11770.000000</td>\n",
              "      <td>11294.000000</td>\n",
              "      <td>11386.700000</td>\n",
              "      <td>11393.300000</td>\n",
              "      <td>11490.730000</td>\n",
              "      <td>2.596010e+07</td>\n",
              "      <td>8.787972e+15</td>\n",
              "      <td>979111.000000</td>\n",
              "      <td>3.690656e+06</td>\n",
              "      <td>0.989500</td>\n",
              "      <td>11439.666667</td>\n",
              "      <td>11212.800000</td>\n",
              "      <td>11183.033333</td>\n",
              "      <td>10926.264286</td>\n",
              "      <td>2.035496e+07</td>\n",
              "      <td>1.722802e+07</td>\n",
              "      <td>6.662866e+15</td>\n",
              "      <td>5.308563e+15</td>\n",
              "      <td>692406.000000</td>\n",
              "      <td>580591.142857</td>\n",
              "      <td>6097.542705</td>\n",
              "      <td>5502.253850</td>\n",
              "      <td>5878.510271</td>\n",
              "      <td>5397.721540</td>\n",
              "      <td>9.567944e+06</td>\n",
              "      <td>7.226047e+06</td>\n",
              "      <td>3.270639e+15</td>\n",
              "      <td>2.469906e+15</td>\n",
              "      <td>378260.406694</td>\n",
              "      <td>277194.812804</td>\n",
              "    </tr>\n",
              "  </tbody>\n",
              "</table>\n",
              "</div>"
            ],
            "text/plain": [
              "         Prev Close          Open  ...  Tradesrolling_std_3  Tradesrolling_std_7\n",
              "count   2285.000000   2285.000000  ...          2285.000000          2285.000000\n",
              "mean    2633.351072   2634.941597  ...         12669.633084         16064.433710\n",
              "std     1953.318359   1952.291595  ...         28004.205040         30660.147379\n",
              "min      566.100000    560.000000  ...            21.385353            31.911335\n",
              "25%     1253.700000   1260.000000  ...           662.009063          1077.452396\n",
              "50%     1923.600000   1926.000000  ...          3152.550079          4591.148980\n",
              "75%     3459.400000   3465.500000  ...         11684.796333         15848.698568\n",
              "max    11393.300000  11300.000000  ...        378260.406694        277194.812804\n",
              "\n",
              "[8 rows x 32 columns]"
            ]
          },
          "metadata": {
            "tags": []
          },
          "execution_count": 43
        }
      ]
    },
    {
      "cell_type": "code",
      "metadata": {
        "colab": {
          "base_uri": "https://localhost:8080/"
        },
        "id": "lzVVg3ygMaJ2",
        "outputId": "50db252d-3d20-4a81-8d73-c494489644fb"
      },
      "source": [
        "df.columns"
      ],
      "execution_count": null,
      "outputs": [
        {
          "output_type": "execute_result",
          "data": {
            "text/plain": [
              "Index(['Symbol', 'Series', 'Prev Close', 'Open', 'High', 'Low', 'Last',\n",
              "       'Close', 'VWAP', 'Volume', 'Turnover', 'Trades', 'Deliverable Volume',\n",
              "       '%Deliverble'],\n",
              "      dtype='object')"
            ]
          },
          "metadata": {
            "tags": []
          },
          "execution_count": 16
        }
      ]
    },
    {
      "cell_type": "code",
      "metadata": {
        "id": "W771UQutQMEh"
      },
      "source": [
        "lag_features = ['High', 'Low', 'Volume', 'Turnover', 'Trades']\n",
        "window1 = 3 #window size of 3 days\n",
        "window2 = 7 #window size of 7 days"
      ],
      "execution_count": null,
      "outputs": []
    },
    {
      "cell_type": "code",
      "metadata": {
        "id": "Fu8WxtoYQ4xW"
      },
      "source": [
        "#we'll iterate then we'll apply the rolling concept and moving average concept\n",
        "\n",
        "\n",
        "for feature in lag_features:\n",
        "  df[feature + 'rolling_mean_3'] = df[feature].rolling(window = window1).mean() \n",
        "  df[feature + 'rolling_mean_7'] = df[feature].rolling(window = window2).mean() \n",
        "\n",
        "\n",
        "\n",
        "  #applying the rolling concept with the window period of 3 days(stored as window1) and finding its mean\n",
        "  #applying the rolling concept with the window period of 7 days(stored as window2) and finding its mean"
      ],
      "execution_count": null,
      "outputs": []
    },
    {
      "cell_type": "code",
      "metadata": {
        "id": "OSezkxCRReef"
      },
      "source": [
        "for feature in lag_features:\n",
        "  df[feature + 'rolling_std_3'] = df[feature].rolling(window = window1).std() \n",
        "  df[feature + 'rolling_std_7'] = df[feature].rolling(window = window2).std() \n",
        "\n",
        "  #Everything being same here, only standard deviation is calculated instead of mean\n",
        "\n"
      ],
      "execution_count": null,
      "outputs": []
    },
    {
      "cell_type": "code",
      "metadata": {
        "colab": {
          "base_uri": "https://localhost:8080/",
          "height": 430
        },
        "id": "QVSFpUC_S-HQ",
        "outputId": "821c9cfe-3544-4b5c-bb9a-0ed93755c506"
      },
      "source": [
        "df.head() #new columns(fetaures) have been added in our dataframe or dataset\n"
      ],
      "execution_count": null,
      "outputs": [
        {
          "output_type": "execute_result",
          "data": {
            "text/html": [
              "<div>\n",
              "<style scoped>\n",
              "    .dataframe tbody tr th:only-of-type {\n",
              "        vertical-align: middle;\n",
              "    }\n",
              "\n",
              "    .dataframe tbody tr th {\n",
              "        vertical-align: top;\n",
              "    }\n",
              "\n",
              "    .dataframe thead th {\n",
              "        text-align: right;\n",
              "    }\n",
              "</style>\n",
              "<table border=\"1\" class=\"dataframe\">\n",
              "  <thead>\n",
              "    <tr style=\"text-align: right;\">\n",
              "      <th></th>\n",
              "      <th>Symbol</th>\n",
              "      <th>Series</th>\n",
              "      <th>Prev Close</th>\n",
              "      <th>Open</th>\n",
              "      <th>High</th>\n",
              "      <th>Low</th>\n",
              "      <th>Last</th>\n",
              "      <th>Close</th>\n",
              "      <th>VWAP</th>\n",
              "      <th>Volume</th>\n",
              "      <th>Turnover</th>\n",
              "      <th>Trades</th>\n",
              "      <th>Deliverable Volume</th>\n",
              "      <th>%Deliverble</th>\n",
              "      <th>Highrolling_mean_3</th>\n",
              "      <th>Highrolling_mean_7</th>\n",
              "      <th>Lowrolling_mean_3</th>\n",
              "      <th>Lowrolling_mean_7</th>\n",
              "      <th>Volumerolling_mean_3</th>\n",
              "      <th>Volumerolling_mean_7</th>\n",
              "      <th>Turnoverrolling_mean_3</th>\n",
              "      <th>Turnoverrolling_mean_7</th>\n",
              "      <th>Tradesrolling_mean_3</th>\n",
              "      <th>Tradesrolling_mean_7</th>\n",
              "      <th>Highrolling_std_3</th>\n",
              "      <th>Highrolling_std_7</th>\n",
              "      <th>Lowrolling_std_3</th>\n",
              "      <th>Lowrolling_std_7</th>\n",
              "      <th>Volumerolling_std_3</th>\n",
              "      <th>Volumerolling_std_7</th>\n",
              "      <th>Turnoverrolling_std_3</th>\n",
              "      <th>Turnoverrolling_std_7</th>\n",
              "      <th>Tradesrolling_std_3</th>\n",
              "      <th>Tradesrolling_std_7</th>\n",
              "    </tr>\n",
              "    <tr>\n",
              "      <th>Date</th>\n",
              "      <th></th>\n",
              "      <th></th>\n",
              "      <th></th>\n",
              "      <th></th>\n",
              "      <th></th>\n",
              "      <th></th>\n",
              "      <th></th>\n",
              "      <th></th>\n",
              "      <th></th>\n",
              "      <th></th>\n",
              "      <th></th>\n",
              "      <th></th>\n",
              "      <th></th>\n",
              "      <th></th>\n",
              "      <th></th>\n",
              "      <th></th>\n",
              "      <th></th>\n",
              "      <th></th>\n",
              "      <th></th>\n",
              "      <th></th>\n",
              "      <th></th>\n",
              "      <th></th>\n",
              "      <th></th>\n",
              "      <th></th>\n",
              "      <th></th>\n",
              "      <th></th>\n",
              "      <th></th>\n",
              "      <th></th>\n",
              "      <th></th>\n",
              "      <th></th>\n",
              "      <th></th>\n",
              "      <th></th>\n",
              "      <th></th>\n",
              "      <th></th>\n",
              "    </tr>\n",
              "  </thead>\n",
              "  <tbody>\n",
              "    <tr>\n",
              "      <th>2011-06-01</th>\n",
              "      <td>BAJFINANCE</td>\n",
              "      <td>EQ</td>\n",
              "      <td>616.70</td>\n",
              "      <td>617.00</td>\n",
              "      <td>636.50</td>\n",
              "      <td>616.00</td>\n",
              "      <td>627.00</td>\n",
              "      <td>631.85</td>\n",
              "      <td>627.01</td>\n",
              "      <td>6894</td>\n",
              "      <td>4.322621e+11</td>\n",
              "      <td>1416.0</td>\n",
              "      <td>3427.0</td>\n",
              "      <td>0.4971</td>\n",
              "      <td>NaN</td>\n",
              "      <td>NaN</td>\n",
              "      <td>NaN</td>\n",
              "      <td>NaN</td>\n",
              "      <td>NaN</td>\n",
              "      <td>NaN</td>\n",
              "      <td>NaN</td>\n",
              "      <td>NaN</td>\n",
              "      <td>NaN</td>\n",
              "      <td>NaN</td>\n",
              "      <td>NaN</td>\n",
              "      <td>NaN</td>\n",
              "      <td>NaN</td>\n",
              "      <td>NaN</td>\n",
              "      <td>NaN</td>\n",
              "      <td>NaN</td>\n",
              "      <td>NaN</td>\n",
              "      <td>NaN</td>\n",
              "      <td>NaN</td>\n",
              "      <td>NaN</td>\n",
              "    </tr>\n",
              "    <tr>\n",
              "      <th>2011-06-02</th>\n",
              "      <td>BAJFINANCE</td>\n",
              "      <td>EQ</td>\n",
              "      <td>631.85</td>\n",
              "      <td>625.00</td>\n",
              "      <td>638.90</td>\n",
              "      <td>620.00</td>\n",
              "      <td>634.00</td>\n",
              "      <td>633.45</td>\n",
              "      <td>636.04</td>\n",
              "      <td>2769</td>\n",
              "      <td>1.761205e+11</td>\n",
              "      <td>432.0</td>\n",
              "      <td>1718.0</td>\n",
              "      <td>0.6204</td>\n",
              "      <td>NaN</td>\n",
              "      <td>NaN</td>\n",
              "      <td>NaN</td>\n",
              "      <td>NaN</td>\n",
              "      <td>NaN</td>\n",
              "      <td>NaN</td>\n",
              "      <td>NaN</td>\n",
              "      <td>NaN</td>\n",
              "      <td>NaN</td>\n",
              "      <td>NaN</td>\n",
              "      <td>NaN</td>\n",
              "      <td>NaN</td>\n",
              "      <td>NaN</td>\n",
              "      <td>NaN</td>\n",
              "      <td>NaN</td>\n",
              "      <td>NaN</td>\n",
              "      <td>NaN</td>\n",
              "      <td>NaN</td>\n",
              "      <td>NaN</td>\n",
              "      <td>NaN</td>\n",
              "    </tr>\n",
              "    <tr>\n",
              "      <th>2011-06-03</th>\n",
              "      <td>BAJFINANCE</td>\n",
              "      <td>EQ</td>\n",
              "      <td>633.45</td>\n",
              "      <td>625.15</td>\n",
              "      <td>637.80</td>\n",
              "      <td>620.00</td>\n",
              "      <td>623.00</td>\n",
              "      <td>625.00</td>\n",
              "      <td>625.09</td>\n",
              "      <td>51427</td>\n",
              "      <td>3.214631e+12</td>\n",
              "      <td>135.0</td>\n",
              "      <td>50912.0</td>\n",
              "      <td>0.9900</td>\n",
              "      <td>637.733333</td>\n",
              "      <td>NaN</td>\n",
              "      <td>618.666667</td>\n",
              "      <td>NaN</td>\n",
              "      <td>20363.333333</td>\n",
              "      <td>NaN</td>\n",
              "      <td>1.274338e+12</td>\n",
              "      <td>NaN</td>\n",
              "      <td>661.000000</td>\n",
              "      <td>NaN</td>\n",
              "      <td>1.201388</td>\n",
              "      <td>NaN</td>\n",
              "      <td>2.309401</td>\n",
              "      <td>NaN</td>\n",
              "      <td>26980.871860</td>\n",
              "      <td>NaN</td>\n",
              "      <td>1.685217e+12</td>\n",
              "      <td>NaN</td>\n",
              "      <td>670.500559</td>\n",
              "      <td>NaN</td>\n",
              "    </tr>\n",
              "    <tr>\n",
              "      <th>2011-06-06</th>\n",
              "      <td>BAJFINANCE</td>\n",
              "      <td>EQ</td>\n",
              "      <td>625.00</td>\n",
              "      <td>620.00</td>\n",
              "      <td>641.00</td>\n",
              "      <td>611.35</td>\n",
              "      <td>611.35</td>\n",
              "      <td>614.00</td>\n",
              "      <td>616.03</td>\n",
              "      <td>5446</td>\n",
              "      <td>3.354910e+11</td>\n",
              "      <td>268.0</td>\n",
              "      <td>4312.0</td>\n",
              "      <td>0.7918</td>\n",
              "      <td>639.233333</td>\n",
              "      <td>NaN</td>\n",
              "      <td>617.116667</td>\n",
              "      <td>NaN</td>\n",
              "      <td>19880.666667</td>\n",
              "      <td>NaN</td>\n",
              "      <td>1.242081e+12</td>\n",
              "      <td>NaN</td>\n",
              "      <td>278.333333</td>\n",
              "      <td>NaN</td>\n",
              "      <td>1.625833</td>\n",
              "      <td>NaN</td>\n",
              "      <td>4.994080</td>\n",
              "      <td>NaN</td>\n",
              "      <td>27352.695339</td>\n",
              "      <td>NaN</td>\n",
              "      <td>1.710136e+12</td>\n",
              "      <td>NaN</td>\n",
              "      <td>148.769396</td>\n",
              "      <td>NaN</td>\n",
              "    </tr>\n",
              "    <tr>\n",
              "      <th>2011-06-07</th>\n",
              "      <td>BAJFINANCE</td>\n",
              "      <td>EQ</td>\n",
              "      <td>614.00</td>\n",
              "      <td>604.00</td>\n",
              "      <td>623.95</td>\n",
              "      <td>604.00</td>\n",
              "      <td>619.90</td>\n",
              "      <td>619.15</td>\n",
              "      <td>617.73</td>\n",
              "      <td>5991</td>\n",
              "      <td>3.700840e+11</td>\n",
              "      <td>273.0</td>\n",
              "      <td>4073.0</td>\n",
              "      <td>0.6799</td>\n",
              "      <td>634.250000</td>\n",
              "      <td>NaN</td>\n",
              "      <td>611.783333</td>\n",
              "      <td>NaN</td>\n",
              "      <td>20954.666667</td>\n",
              "      <td>NaN</td>\n",
              "      <td>1.306735e+12</td>\n",
              "      <td>NaN</td>\n",
              "      <td>225.333333</td>\n",
              "      <td>NaN</td>\n",
              "      <td>9.062422</td>\n",
              "      <td>NaN</td>\n",
              "      <td>8.008797</td>\n",
              "      <td>NaN</td>\n",
              "      <td>26391.221653</td>\n",
              "      <td>NaN</td>\n",
              "      <td>1.652377e+12</td>\n",
              "      <td>NaN</td>\n",
              "      <td>78.270897</td>\n",
              "      <td>NaN</td>\n",
              "    </tr>\n",
              "  </tbody>\n",
              "</table>\n",
              "</div>"
            ],
            "text/plain": [
              "                Symbol Series  ...  Tradesrolling_std_3  Tradesrolling_std_7\n",
              "Date                           ...                                          \n",
              "2011-06-01  BAJFINANCE     EQ  ...                  NaN                  NaN\n",
              "2011-06-02  BAJFINANCE     EQ  ...                  NaN                  NaN\n",
              "2011-06-03  BAJFINANCE     EQ  ...           670.500559                  NaN\n",
              "2011-06-06  BAJFINANCE     EQ  ...           148.769396                  NaN\n",
              "2011-06-07  BAJFINANCE     EQ  ...            78.270897                  NaN\n",
              "\n",
              "[5 rows x 34 columns]"
            ]
          },
          "metadata": {
            "tags": []
          },
          "execution_count": 20
        }
      ]
    },
    {
      "cell_type": "code",
      "metadata": {
        "colab": {
          "base_uri": "https://localhost:8080/"
        },
        "id": "vvNjRn5PTKIE",
        "outputId": "f6cfa2d8-80a2-4fb3-a95b-bebc13746183"
      },
      "source": [
        "df.columns"
      ],
      "execution_count": null,
      "outputs": [
        {
          "output_type": "execute_result",
          "data": {
            "text/plain": [
              "Index(['Symbol', 'Series', 'Prev Close', 'Open', 'High', 'Low', 'Last',\n",
              "       'Close', 'VWAP', 'Volume', 'Turnover', 'Trades', 'Deliverable Volume',\n",
              "       '%Deliverble', 'Highrolling_mean_3', 'Highrolling_mean_7',\n",
              "       'Lowrolling_mean_3', 'Lowrolling_mean_7', 'Volumerolling_mean_3',\n",
              "       'Volumerolling_mean_7', 'Turnoverrolling_mean_3',\n",
              "       'Turnoverrolling_mean_7', 'Tradesrolling_mean_3',\n",
              "       'Tradesrolling_mean_7', 'Highrolling_std_3', 'Highrolling_std_7',\n",
              "       'Lowrolling_std_3', 'Lowrolling_std_7', 'Volumerolling_std_3',\n",
              "       'Volumerolling_std_7', 'Turnoverrolling_std_3', 'Turnoverrolling_std_7',\n",
              "       'Tradesrolling_std_3', 'Tradesrolling_std_7'],\n",
              "      dtype='object')"
            ]
          },
          "metadata": {
            "tags": []
          },
          "execution_count": 21
        }
      ]
    },
    {
      "cell_type": "code",
      "metadata": {
        "colab": {
          "base_uri": "https://localhost:8080/"
        },
        "id": "UCM4e4mhTqyT",
        "outputId": "7a537942-8658-4235-f55a-092633b308e5"
      },
      "source": [
        "df.shape"
      ],
      "execution_count": null,
      "outputs": [
        {
          "output_type": "execute_result",
          "data": {
            "text/plain": [
              "(2291, 34)"
            ]
          },
          "metadata": {
            "tags": []
          },
          "execution_count": 22
        }
      ]
    },
    {
      "cell_type": "code",
      "metadata": {
        "colab": {
          "base_uri": "https://localhost:8080/"
        },
        "id": "-b0TrfAMT65C",
        "outputId": "ca597447-97c5-4284-c438-2835c13f6cef"
      },
      "source": [
        "df.isna().sum()"
      ],
      "execution_count": null,
      "outputs": [
        {
          "output_type": "execute_result",
          "data": {
            "text/plain": [
              "Symbol                    0\n",
              "Series                    0\n",
              "Prev Close                0\n",
              "Open                      0\n",
              "High                      0\n",
              "Low                       0\n",
              "Last                      0\n",
              "Close                     0\n",
              "VWAP                      0\n",
              "Volume                    0\n",
              "Turnover                  0\n",
              "Trades                    0\n",
              "Deliverable Volume        0\n",
              "%Deliverble               0\n",
              "Highrolling_mean_3        2\n",
              "Highrolling_mean_7        6\n",
              "Lowrolling_mean_3         2\n",
              "Lowrolling_mean_7         6\n",
              "Volumerolling_mean_3      2\n",
              "Volumerolling_mean_7      6\n",
              "Turnoverrolling_mean_3    2\n",
              "Turnoverrolling_mean_7    6\n",
              "Tradesrolling_mean_3      2\n",
              "Tradesrolling_mean_7      6\n",
              "Highrolling_std_3         2\n",
              "Highrolling_std_7         6\n",
              "Lowrolling_std_3          2\n",
              "Lowrolling_std_7          6\n",
              "Volumerolling_std_3       2\n",
              "Volumerolling_std_7       6\n",
              "Turnoverrolling_std_3     2\n",
              "Turnoverrolling_std_7     6\n",
              "Tradesrolling_std_3       2\n",
              "Tradesrolling_std_7       6\n",
              "dtype: int64"
            ]
          },
          "metadata": {
            "tags": []
          },
          "execution_count": 23
        }
      ]
    },
    {
      "cell_type": "code",
      "metadata": {
        "id": "LuxwKtkET-he"
      },
      "source": [
        "df.dropna(inplace = True)"
      ],
      "execution_count": null,
      "outputs": []
    },
    {
      "cell_type": "code",
      "metadata": {
        "colab": {
          "base_uri": "https://localhost:8080/"
        },
        "id": "AuYNh4NuUC-M",
        "outputId": "1395d644-5233-4d62-d700-5a838e8dc059"
      },
      "source": [
        "df.isna().sum()"
      ],
      "execution_count": null,
      "outputs": [
        {
          "output_type": "execute_result",
          "data": {
            "text/plain": [
              "Symbol                    0\n",
              "Series                    0\n",
              "Prev Close                0\n",
              "Open                      0\n",
              "High                      0\n",
              "Low                       0\n",
              "Last                      0\n",
              "Close                     0\n",
              "VWAP                      0\n",
              "Volume                    0\n",
              "Turnover                  0\n",
              "Trades                    0\n",
              "Deliverable Volume        0\n",
              "%Deliverble               0\n",
              "Highrolling_mean_3        0\n",
              "Highrolling_mean_7        0\n",
              "Lowrolling_mean_3         0\n",
              "Lowrolling_mean_7         0\n",
              "Volumerolling_mean_3      0\n",
              "Volumerolling_mean_7      0\n",
              "Turnoverrolling_mean_3    0\n",
              "Turnoverrolling_mean_7    0\n",
              "Tradesrolling_mean_3      0\n",
              "Tradesrolling_mean_7      0\n",
              "Highrolling_std_3         0\n",
              "Highrolling_std_7         0\n",
              "Lowrolling_std_3          0\n",
              "Lowrolling_std_7          0\n",
              "Volumerolling_std_3       0\n",
              "Volumerolling_std_7       0\n",
              "Turnoverrolling_std_3     0\n",
              "Turnoverrolling_std_7     0\n",
              "Tradesrolling_std_3       0\n",
              "Tradesrolling_std_7       0\n",
              "dtype: int64"
            ]
          },
          "metadata": {
            "tags": []
          },
          "execution_count": 25
        }
      ]
    },
    {
      "cell_type": "code",
      "metadata": {
        "id": "XwLPHZnyUGgg"
      },
      "source": [
        "independent_features = ['Highrolling_mean_3', 'Highrolling_mean_7',\n",
        "       'Lowrolling_mean_3', 'Lowrolling_mean_7', 'Volumerolling_mean_3',\n",
        "       'Volumerolling_mean_7', 'Turnoverrolling_mean_3',\n",
        "       'Turnoverrolling_mean_7', 'Tradesrolling_mean_3',\n",
        "       'Tradesrolling_mean_7', 'Highrolling_std_3', 'Highrolling_std_7',\n",
        "       'Lowrolling_std_3', 'Lowrolling_std_7', 'Volumerolling_std_3',\n",
        "       'Volumerolling_std_7', 'Turnoverrolling_std_3', 'Turnoverrolling_std_7',\n",
        "       'Tradesrolling_std_3', 'Tradesrolling_std_7']\n",
        "\n",
        "#These are the independent features which is going to be used for training purposes"
      ],
      "execution_count": null,
      "outputs": []
    },
    {
      "cell_type": "code",
      "metadata": {
        "id": "QqgpOZx4U4nd"
      },
      "source": [
        "training_data = df[0:1800] #for training purpose we'll use first 1800 rows\n",
        "testing_data = df[1800:] #for testing we'll use from 1800 rows to the last road"
      ],
      "execution_count": null,
      "outputs": []
    },
    {
      "cell_type": "code",
      "metadata": {
        "id": "fkFHfORiVNrJ",
        "colab": {
          "base_uri": "https://localhost:8080/"
        },
        "outputId": "a73e873f-1aa9-40d9-da45-d23fc6880511"
      },
      "source": [
        "pip install pmdarima #installing the arima model"
      ],
      "execution_count": null,
      "outputs": [
        {
          "output_type": "stream",
          "text": [
            "Requirement already satisfied: pmdarima in /usr/local/lib/python3.7/dist-packages (1.8.2)\n",
            "Requirement already satisfied: urllib3 in /usr/local/lib/python3.7/dist-packages (from pmdarima) (1.24.3)\n",
            "Requirement already satisfied: joblib>=0.11 in /usr/local/lib/python3.7/dist-packages (from pmdarima) (1.0.1)\n",
            "Requirement already satisfied: setuptools!=50.0.0,>=38.6.0 in /usr/local/lib/python3.7/dist-packages (from pmdarima) (56.1.0)\n",
            "Requirement already satisfied: scipy>=1.3.2 in /usr/local/lib/python3.7/dist-packages (from pmdarima) (1.4.1)\n",
            "Requirement already satisfied: pandas>=0.19 in /usr/local/lib/python3.7/dist-packages (from pmdarima) (1.1.5)\n",
            "Requirement already satisfied: Cython!=0.29.18,>=0.29 in /usr/local/lib/python3.7/dist-packages (from pmdarima) (0.29.23)\n",
            "Requirement already satisfied: numpy~=1.19.0 in /usr/local/lib/python3.7/dist-packages (from pmdarima) (1.19.5)\n",
            "Requirement already satisfied: statsmodels!=0.12.0,>=0.11 in /usr/local/lib/python3.7/dist-packages (from pmdarima) (0.12.2)\n",
            "Requirement already satisfied: scikit-learn>=0.22 in /usr/local/lib/python3.7/dist-packages (from pmdarima) (0.22.2.post1)\n",
            "Requirement already satisfied: python-dateutil>=2.7.3 in /usr/local/lib/python3.7/dist-packages (from pandas>=0.19->pmdarima) (2.8.1)\n",
            "Requirement already satisfied: pytz>=2017.2 in /usr/local/lib/python3.7/dist-packages (from pandas>=0.19->pmdarima) (2018.9)\n",
            "Requirement already satisfied: patsy>=0.5 in /usr/local/lib/python3.7/dist-packages (from statsmodels!=0.12.0,>=0.11->pmdarima) (0.5.1)\n",
            "Requirement already satisfied: six>=1.5 in /usr/local/lib/python3.7/dist-packages (from python-dateutil>=2.7.3->pandas>=0.19->pmdarima) (1.15.0)\n"
          ],
          "name": "stdout"
        }
      ]
    },
    {
      "cell_type": "code",
      "metadata": {
        "id": "Hx_3_icDHq09"
      },
      "source": [
        "from pmdarima import auto_arima"
      ],
      "execution_count": null,
      "outputs": []
    },
    {
      "cell_type": "code",
      "metadata": {
        "colab": {
          "base_uri": "https://localhost:8080/"
        },
        "id": "43zoUb6TH7Sm",
        "outputId": "bc65e943-db19-40b0-e602-e44ef888edd8"
      },
      "source": [
        "model = auto_arima(y = training_data['VWAP'], exogenous = training_data[independent_features], trace = True) \n",
        "#y takes the dependent feature which has to be predicted\n",
        "#exogenous takes the independent feature \n",
        "#trace = True implements the best pdq values automatically"
      ],
      "execution_count": null,
      "outputs": [
        {
          "output_type": "stream",
          "text": [
            "Performing stepwise search to minimize aic\n",
            " ARIMA(2,0,2)(0,0,0)[0] intercept   : AIC=20931.534, Time=6.49 sec\n",
            " ARIMA(0,0,0)(0,0,0)[0] intercept   : AIC=20925.222, Time=3.56 sec\n",
            " ARIMA(1,0,0)(0,0,0)[0] intercept   : AIC=20926.346, Time=3.70 sec\n",
            " ARIMA(0,0,1)(0,0,0)[0] intercept   : AIC=20926.318, Time=5.23 sec\n",
            " ARIMA(0,0,0)(0,0,0)[0]             : AIC=32616.913, Time=3.42 sec\n",
            " ARIMA(1,0,1)(0,0,0)[0] intercept   : AIC=20929.232, Time=5.44 sec\n",
            "\n",
            "Best model:  ARIMA(0,0,0)(0,0,0)[0] intercept\n",
            "Total fit time: 27.892 seconds\n"
          ],
          "name": "stdout"
        },
        {
          "output_type": "stream",
          "text": [
            "/usr/local/lib/python3.7/dist-packages/statsmodels/tsa/statespace/sarimax.py:1890: RuntimeWarning: divide by zero encountered in reciprocal\n",
            "  return np.roots(self.polynomial_reduced_ar)**-1\n",
            "/usr/local/lib/python3.7/dist-packages/statsmodels/tsa/statespace/sarimax.py:1897: RuntimeWarning: divide by zero encountered in reciprocal\n",
            "  return np.roots(self.polynomial_reduced_ma)**-1\n"
          ],
          "name": "stderr"
        }
      ]
    },
    {
      "cell_type": "code",
      "metadata": {
        "id": "a4JsxetQIw5L"
      },
      "source": [
        "#The lower the AIC the better the model\n",
        "#see the best arima model in which: (0,0,0) is p, (0,0,0) is d, [0] is q"
      ],
      "execution_count": null,
      "outputs": []
    },
    {
      "cell_type": "code",
      "metadata": {
        "colab": {
          "base_uri": "https://localhost:8080/"
        },
        "id": "MvFOvU97KLT8",
        "outputId": "3cda9ae7-9e95-44f2-dabf-4c963f040d81"
      },
      "source": [
        "model.fit(training_data['VWAP'], training_data[independent_features]) #the dependent and independent data is passed, nothing fancy!!"
      ],
      "execution_count": null,
      "outputs": [
        {
          "output_type": "execute_result",
          "data": {
            "text/plain": [
              "ARIMA(maxiter=50, method='lbfgs', order=(0, 0, 0), out_of_sample_size=0,\n",
              "      scoring='mse', scoring_args={}, seasonal_order=(0, 0, 0, 0),\n",
              "      start_params=None, suppress_warnings=True, trend=None,\n",
              "      with_intercept=True)"
            ]
          },
          "metadata": {
            "tags": []
          },
          "execution_count": 33
        }
      ]
    },
    {
      "cell_type": "code",
      "metadata": {
        "colab": {
          "base_uri": "https://localhost:8080/"
        },
        "id": "k4tdou_MKvK5",
        "outputId": "20833210-05f0-426a-9439-a85308653fab"
      },
      "source": [
        "\n",
        "forecast = model.predict(n_periods = len(testing_data), exogenous = testing_data[independent_features])\n",
        "\n",
        "#n_periods is taken to be the length of test data\n",
        "#exogenous is taken as the testing data of ind features as prediction has to be done"
      ],
      "execution_count": null,
      "outputs": [
        {
          "output_type": "stream",
          "text": [
            "/usr/local/lib/python3.7/dist-packages/statsmodels/tsa/base/tsa_model.py:379: ValueWarning: No supported index is available. Prediction results will be given with an integer index beginning at `start`.\n",
            "  ValueWarning)\n"
          ],
          "name": "stderr"
        }
      ]
    },
    {
      "cell_type": "code",
      "metadata": {
        "colab": {
          "base_uri": "https://localhost:8080/"
        },
        "id": "6aW9hOFRLOIW",
        "outputId": "22959902-74e3-4080-e186-7a30b0d2d1a1"
      },
      "source": [
        "testing_data['forecast_ARIMA'] = forecast #we have assigned the above predicted values to the testing data column named as forecast_ARIMA"
      ],
      "execution_count": null,
      "outputs": [
        {
          "output_type": "stream",
          "text": [
            "/usr/local/lib/python3.7/dist-packages/ipykernel_launcher.py:1: SettingWithCopyWarning: \n",
            "A value is trying to be set on a copy of a slice from a DataFrame.\n",
            "Try using .loc[row_indexer,col_indexer] = value instead\n",
            "\n",
            "See the caveats in the documentation: https://pandas.pydata.org/pandas-docs/stable/user_guide/indexing.html#returning-a-view-versus-a-copy\n",
            "  \"\"\"Entry point for launching an IPython kernel.\n"
          ],
          "name": "stderr"
        }
      ]
    },
    {
      "cell_type": "code",
      "metadata": {
        "colab": {
          "base_uri": "https://localhost:8080/",
          "height": 459
        },
        "id": "eDxHYVByMw3Z",
        "outputId": "f88e5dd3-1825-4ad3-aa6f-b1feecfab6d3"
      },
      "source": [
        "testing_data[['VWAP','forecast_ARIMA']].plot(figsize = (14,7)) #plotting the actual values(vwap) and the predicted values(forecast_ARIMA) trend\n",
        "#the predicted(orange) curve is very close and kinda same as the actual curve(blue), this states the we have predicted very accurately and a good model is built"
      ],
      "execution_count": null,
      "outputs": [
        {
          "output_type": "execute_result",
          "data": {
            "text/plain": [
              "<matplotlib.axes._subplots.AxesSubplot at 0x7fb287972110>"
            ]
          },
          "metadata": {
            "tags": []
          },
          "execution_count": 39
        },
        {
          "output_type": "display_data",
          "data": {
            "image/png": "[encoded data removed]",
            "text/plain": [
              "<Figure size 1008x504 with 1 Axes>"
            ]
          },
          "metadata": {
            "tags": [],
            "needs_background": "light"
          }
        }
      ]
    },
    {
      "cell_type": "code",
      "metadata": {
        "id": "yZCb1pR8NU39"
      },
      "source": [
        "from sklearn.metrics import mean_absolute_error, mean_squared_error"
      ],
      "execution_count": null,
      "outputs": []
    },
    {
      "cell_type": "code",
      "metadata": {
        "colab": {
          "base_uri": "https://localhost:8080/"
        },
        "id": "_lX0sXAoOHGd",
        "outputId": "001d6d9b-9cdc-4c0e-ce60-dc5a10f0b291"
      },
      "source": [
        "np.sqrt(mean_squared_error(testing_data['VWAP'], testing_data['forecast_ARIMA'])) #root mean squared error"
      ],
      "execution_count": null,
      "outputs": [
        {
          "output_type": "execute_result",
          "data": {
            "text/plain": [
              "187.82948880630076"
            ]
          },
          "metadata": {
            "tags": []
          },
          "execution_count": 41
        }
      ]
    },
    {
      "cell_type": "code",
      "metadata": {
        "colab": {
          "base_uri": "https://localhost:8080/"
        },
        "id": "ofaGX7pCOnev",
        "outputId": "a02e5adc-bacd-4642-ab94-e3123b6bebd5"
      },
      "source": [
        "mean_absolute_error(testing_data['VWAP'], testing_data['forecast_ARIMA']) "
      ],
      "execution_count": null,
      "outputs": [
        {
          "output_type": "execute_result",
          "data": {
            "text/plain": [
              "124.68829484488094"
            ]
          },
          "metadata": {
            "tags": []
          },
          "execution_count": 44
        }
      ]
    },
    {
      "cell_type": "code",
      "metadata": {
        "id": "qhbKBA9pPAPz"
      },
      "source": [
        ""
      ],
      "execution_count": null,
      "outputs": []
    }
  ]
}